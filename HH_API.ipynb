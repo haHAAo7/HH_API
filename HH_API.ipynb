{
 "cells": [
  {
   "cell_type": "markdown",
   "id": "9059ee28",
   "metadata": {},
   "source": [
    "<font size=\"5\">Cкрипт для построения графика по ключевым словам</font>"
   ]
  },
  {
   "cell_type": "markdown",
   "id": "feac7799",
   "metadata": {},
   "source": [
    "К сожалению на данный момент существует ограничение на **2000** поисковых выдачей при использовании API hh.\n",
    "Поиск будет производится по заранее заданным критериям, так как из-за ограничения API проанализировать \n",
    "весь объем информации не получится.\n",
    "\n",
    "1. **Area - регион**. Учитывая ограничения API, в данном случае я буду искать вакансии в городе Москва, так как \n",
    "он является самым популярным по кол-ву вакансий и ближайшим ко мне.\n",
    "2. **professional_role - Профессиональная область**. Программист, разработчик. Задаем этот критерий, что бы\n",
    "отсеять тестировщиков, специалистов тех. поддержки и другие IT специальности, которые в данном анализе нас не \n",
    "интересуют.\n",
    "3. **experience - опыт**. Снова учитываем факт ограничения API и будем оценивать вакансии с требованием опыта \n",
    "работы '1-3 года', так как вакансии с таким условием говорят о том, что специалист будет востребован на рынке \n",
    "если он решит посвятить себя этой области.\n",
    "\n",
    "Даже учитывая эти критерии имеем больше 2000 поисковых выдачей "
   ]
  },
  {
   "cell_type": "code",
   "execution_count": 3,
   "id": "462449c9",
   "metadata": {},
   "outputs": [],
   "source": [
    "import matplotlib.pyplot as plt\n",
    "import requests\n",
    "\n",
    "\n",
    "def get_vacancies():\n",
    "    dic = {'1с':0, 'c#':0, 'c++':0,  'python':0,  'java':0,  'javascript':0, 'php':0,}\n",
    "\n",
    "    for page in range(20):\n",
    "        url = requests.get(f'https://api.hh.ru/vacancies?per_page=100&page={page}&area=1&professional_role=96&experience=between1And3')\n",
    "        data = url.json()\n",
    "        vacancies = (url.json()['items'])\n",
    "        for entry in vacancies:\n",
    "            try:\n",
    "                for lang in dic:\n",
    "                    if (entry['snippet']['requirement'].lower().find(f'{lang}') or entry['name'].lower().find(f'{lang}')) != -1:\n",
    "                        dic[lang] +=1\n",
    "            except AttributeError:\n",
    "                pass    \n",
    "    dic['java'] = dic['java'] - dic['javascript']\n",
    "    return dic"
   ]
  },
  {
   "cell_type": "markdown",
   "id": "62660843",
   "metadata": {},
   "source": [
    "Собираем данные анализируя наличие ключевых слов(названия языков программирования) в **именах/требованиях** вакансий.\n"
   ]
  },
  {
   "cell_type": "code",
   "execution_count": 4,
   "id": "e1785c66",
   "metadata": {},
   "outputs": [],
   "source": [
    "def make_graphs(data):\n",
    "    fig, ax = plt.subplots()\n",
    "\n",
    "    languages = ['1С', 'С#', 'C++', 'Python', 'Java', 'PHP']\n",
    "    counts = [data['1с'], data['c#'], data['c++'], data['python'], data['java'], data['php']]\n",
    "    colors = ['tab:red', 'tab:green', 'tab:olive', 'tab:orange', 'tab:purple', 'tab:blue']\n",
    "\n",
    "    ax.bar(languages, counts, color=colors)\n",
    "\n",
    "    ax.set_ylabel('Кол-во упоминаний')\n",
    "\n",
    "    plt.show()"
   ]
  },
  {
   "cell_type": "code",
   "execution_count": 5,
   "id": "c25524b1",
   "metadata": {
    "scrolled": true
   },
   "outputs": [
    {
     "data": {
      "image/png": "[encoded data removed]",
      "text/plain": [
       "<Figure size 640x480 with 1 Axes>"
      ]
     },
     "metadata": {},
     "output_type": "display_data"
    }
   ],
   "source": [
    "data = get_vacancies()\n",
    "make_graphs(data)"
   ]
  }
 ],
 "metadata": {
  "kernelspec": {
   "display_name": "Python 3 (ipykernel)",
   "language": "python",
   "name": "python3"
  },
  "language_info": {
   "codemirror_mode": {
    "name": "ipython",
    "version": 3
   },
   "file_extension": ".py",
   "mimetype": "text/x-python",
   "name": "python",
   "nbconvert_exporter": "python",
   "pygments_lexer": "ipython3",
   "version": "3.9.13"
  }
 },
 "nbformat": 4,
 "nbformat_minor": 5
}
